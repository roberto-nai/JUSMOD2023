{
 "cells": [
  {
   "cell_type": "code",
   "execution_count": 1,
   "id": "427f2115",
   "metadata": {},
   "outputs": [],
   "source": [
    "# 04_data_stats\n",
    "# Data stats"
   ]
  },
  {
   "cell_type": "code",
   "execution_count": 10,
   "id": "2f932c20",
   "metadata": {},
   "outputs": [],
   "source": [
    "import pandas as pd\n",
    "import os\n",
    "import csv"
   ]
  },
  {
   "cell_type": "code",
   "execution_count": 13,
   "id": "01beed70",
   "metadata": {},
   "outputs": [],
   "source": [
    "# GLOBALS\n",
    "country_list = ['FR', 'IT', 'ES'] # <-- INPUT: desired country [IT, FR, ES]\n",
    "cae_type = \"3\" # <-- INPUT: CAE_TYPE -> 3 = \"Regional or local authority\""
   ]
  },
  {
   "cell_type": "code",
   "execution_count": 14,
   "id": "b1e6e163",
   "metadata": {},
   "outputs": [
    {
     "name": "stdout",
     "output_type": "stream",
     "text": [
      "File name: Tender_join_Award_2016_2022_FR_Type_3_clean.csv\n",
      "Distinct cases: 66382\n",
      "\n",
      "File name: Tender_join_Award_2016_2022_IT_Type_3_clean.csv\n",
      "Distinct cases: 16861\n",
      "\n",
      "File name: Tender_join_Award_2016_2022_ES_Type_3_clean.csv\n",
      "Distinct cases: 33032\n",
      "\n",
      "Total cases: 116275\n"
     ]
    }
   ],
   "source": [
    "# Reading the CSV\n",
    "dt = {'ID_NOTICE_CN':object, 'MAIN_CPV_CODE_GPA':object}\n",
    "cases_tot = 0\n",
    "for country_code in country_list:\n",
    "    file_name = \"Tender_join_Award_2016_2022_\"+country_code+\"_Type_\"+cae_type+\"_clean.csv\"\n",
    "    print(\"File name:\", file_name)\n",
    "    df_ted = pd.read_csv(file_name, sep = \";\", dtype=dt, low_memory=False)\n",
    "    cases_num = df_ted['ID_NOTICE_CN'].nunique()\n",
    "    cases_tot+=cases_num\n",
    "    print(\"Distinct cases:\", cases_num)\n",
    "    print()\n",
    "print(\"Total cases:\", cases_tot)"
   ]
  },
  {
   "cell_type": "code",
   "execution_count": null,
   "id": "f1ecf621",
   "metadata": {},
   "outputs": [],
   "source": []
  }
 ],
 "metadata": {
  "kernelspec": {
   "display_name": "Python 3 (ipykernel)",
   "language": "python",
   "name": "python3"
  },
  "language_info": {
   "codemirror_mode": {
    "name": "ipython",
    "version": 3
   },
   "file_extension": ".py",
   "mimetype": "text/x-python",
   "name": "python",
   "nbconvert_exporter": "python",
   "pygments_lexer": "ipython3",
   "version": "3.8.10"
  }
 },
 "nbformat": 4,
 "nbformat_minor": 5
}
