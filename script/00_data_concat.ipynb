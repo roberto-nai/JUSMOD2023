{
 "cells": [
  {
   "cell_type": "code",
   "execution_count": 10,
   "id": "04823ec0",
   "metadata": {},
   "outputs": [],
   "source": [
    "# 00_data_concat\n",
    "# Concat the files starting from opendata_dir\n",
    "# Concat only country_code data"
   ]
  },
  {
   "cell_type": "code",
   "execution_count": 11,
   "id": "59c3e819",
   "metadata": {},
   "outputs": [],
   "source": [
    "import pandas as pd\n",
    "import os\n",
    "import csv\n",
    "from os import listdir\n",
    "from os.path import isfile, join"
   ]
  },
  {
   "cell_type": "code",
   "execution_count": 25,
   "id": "92c91d12",
   "metadata": {},
   "outputs": [],
   "source": [
    "# GLOBALS\n",
    "opendata_dir = \"opendata\" # EU open data\n",
    "data_dir = \"data\" # output files\n",
    "country_code = \"ES\" # <-- INPUT: desired country [IT, FR, ES]"
   ]
  },
  {
   "cell_type": "code",
   "execution_count": 26,
   "id": "a0758fcd",
   "metadata": {},
   "outputs": [],
   "source": [
    "# List the files\n",
    "file_list = [f for f in listdir(opendata_dir) if isfile(join(opendata_dir, f))]"
   ]
  },
  {
   "cell_type": "code",
   "execution_count": 27,
   "id": "997ed5b7",
   "metadata": {},
   "outputs": [],
   "source": [
    "print(file_list)"
   ]
  },
  {
   "cell_type": "code",
   "execution_count": 28,
   "id": "405a6225",
   "metadata": {},
   "outputs": [],
   "source": [
    "# get CFC (tenders)\n",
    "\n",
    "df_concat = pd.DataFrame()\n",
    "\n",
    "dt = {'ID_NOTICE_CN':object, 'FUTURE_CAN_ID':object, 'FUTURE_CAN_ID_ESTIMATED':object, 'MAIN_CPV_CODE_GPA':object}\n",
    "\n",
    "for file_name in file_list:\n",
    "    if \"DS_Store\" in file_name:\n",
    "        continue\n",
    "    if \"CFC\" in file_name:\n",
    "        path_data = os.path.join(opendata_dir, file_name) # get files from opendata\n",
    "        df_ted = pd.read_csv(path_data, sep = \",\", dtype=dt, low_memory=False)\n",
    "        df_ted_country = df_ted[df_ted['ISO_COUNTRY_CODE']==country_code] # get only country_code\n",
    "        parts = file_name.split(\".\")\n",
    "        file_name_country = parts[0] + \"_\" + country_code + \".csv\"\n",
    "        path_data = os.path.join(data_dir, file_name_country) # save file to data\n",
    "        df_ted_country.to_csv(path_data, sep = \";\", index = False)\n",
    "        # concat\n",
    "        df_concat = pd.concat([df_concat, df_ted_country], axis=0)\n",
    "        \n",
    "\n",
    "file_out = \"_Export_OpenDataCFC_year2016_2022_\"+country_code+\".csv\"\n",
    "path_data = os.path.join(data_dir, file_out)\n",
    "df_concat.to_csv(path_data, sep = \";\", index = False)"
   ]
  },
  {
   "cell_type": "code",
   "execution_count": 29,
   "id": "49d763ce",
   "metadata": {},
   "outputs": [],
   "source": [
    "# get CAN (awards)\n",
    "\n",
    "df_concat = pd.DataFrame()\n",
    "\n",
    "dt = {'ID_NOTICE_CAN':object, 'ID_AWARD':object, 'ID_LOT_AWARDED':object, 'MAIN_CPV_CODE_GPA':object}\n",
    "\n",
    "for file_name in file_list:\n",
    "    if \"DS_Store\" in file_name:\n",
    "        continue\n",
    "    if \"CAN\" in file_name:\n",
    "        path_data = os.path.join(opendata_dir, file_name) # get files from opendata\n",
    "        df_ted = pd.read_csv(path_data, sep = \",\", dtype=dt, low_memory=False)\n",
    "        df_ted_country = df_ted[df_ted['ISO_COUNTRY_CODE']==country_code] # get only country_code\n",
    "        parts = file_name.split(\".\")\n",
    "        file_name_country = parts[0] + \"_\" + country_code + \".csv\"\n",
    "        path_data = os.path.join(data_dir, file_name_country) # save file to data\n",
    "        df_ted_country.to_csv(path_data, sep = \";\", index = False)\n",
    "        # concat\n",
    "        df_concat = pd.concat([df_concat, df_ted_country], axis=0)\n",
    "        \n",
    "file_out = \"_Export_OpenDataCAN_year2016_2022_\"+country_code+\".csv\"\n",
    "path_data = os.path.join(data_dir, file_out) \n",
    "df_concat.to_csv(path_data, sep = \";\", index = False)"
   ]
  },
  {
   "cell_type": "code",
   "execution_count": null,
   "id": "851c5132",
   "metadata": {},
   "outputs": [],
   "source": []
  },
  {
   "cell_type": "code",
   "execution_count": 30,
   "id": "9ba906ab",
   "metadata": {},
   "outputs": [],
   "source": [
    "country_code"
   ]
  },
  {
   "cell_type": "code",
   "execution_count": null,
   "id": "7c67ab51",
   "metadata": {},
   "outputs": [],
   "source": []
  }
 ],
 "metadata": {
  "kernelspec": {
   "display_name": "Python 3 (ipykernel)",
   "language": "python",
   "name": "python3"
  },
  "language_info": {
   "codemirror_mode": {
    "name": "ipython",
    "version": 3
   },
   "file_extension": ".py",
   "mimetype": "text/x-python",
   "name": "python",
   "nbconvert_exporter": "python",
   "pygments_lexer": "ipython3",
   "version": "3.8.10"
  }
 },
 "nbformat": 4,
 "nbformat_minor": 5
}
